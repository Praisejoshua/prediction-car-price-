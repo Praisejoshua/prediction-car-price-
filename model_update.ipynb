{
 "cells": [
  {
   "cell_type": "code",
   "execution_count": 1,
   "metadata": {},
   "outputs": [],
   "source": [
    "import pandas as pd"
   ]
  },
  {
   "cell_type": "code",
   "execution_count": 2,
   "metadata": {},
   "outputs": [],
   "source": [
    "data = pd.read_csv(\"./data/car_price_prediction.csv\") #loading the dataset"
   ]
  },
  {
   "cell_type": "code",
   "execution_count": 3,
   "metadata": {},
   "outputs": [],
   "source": [
    "# Remove non-numeric characters and convert to numeric\n",
    "data['Mileage'] = data['Mileage'].str.replace(' km', '').str.replace(',', '').astype(float)"
   ]
  },
  {
   "cell_type": "code",
   "execution_count": 4,
   "metadata": {},
   "outputs": [],
   "source": [
    "from sklearn.preprocessing import StandardScaler, OneHotEncoder\n",
    "from sklearn.linear_model import LinearRegression\n",
    "from sklearn.ensemble import RandomForestClassifier\n",
    "from sklearn.compose import ColumnTransformer\n",
    "from sklearn.pipeline import Pipeline\n",
    "\n",
    "# Define features and target\n",
    "features = [\"Manufacturer\", \"Model\", \"Prod. year\", \"Category\", \"Fuel type\", \"Mileage\"]\n",
    "target = \"Price\"\n",
    "\n",
    "X = data[features]\n",
    "y = data[target]"
   ]
  },
  {
   "cell_type": "code",
   "execution_count": 5,
   "metadata": {},
   "outputs": [],
   "source": [
    "# Define preprocessing for numerical and categorical features\n",
    "numeric_features = [\"Prod. year\", \"Mileage\"]\n",
    "numeric_transformer = StandardScaler()\n",
    "\n",
    "categorical_features = [\"Manufacturer\", \"Model\", \"Category\", \"Fuel type\"]\n",
    "categorical_transformer = OneHotEncoder(handle_unknown='ignore')\n",
    "\n",
    "# Combine preprocessing steps\n",
    "preprocessor = ColumnTransformer(\n",
    "    transformers=[\n",
    "        ('num', numeric_transformer, numeric_features),\n",
    "        ('cat', categorical_transformer, categorical_features)])\n",
    "\n",
    "# Create a preprocessing and model pipeline\n",
    "linear_model_pipeline = Pipeline(steps=[('preprocessor', preprocessor),\n",
    "                                        ('model', LinearRegression())])\n",
    "\n",
    "# If working with a classification problem and Random Forest\n",
    "rf_model_pipeline = Pipeline(steps=[('preprocessor', preprocessor),\n",
    "                                    ('model', RandomForestClassifier(random_state=42))])"
   ]
  },
  {
   "cell_type": "code",
   "execution_count": 6,
   "metadata": {},
   "outputs": [],
   "source": [
    "from sklearn.model_selection import train_test_split\n",
    "\n",
    "# Split the data into training and testing sets\n",
    "X_train, X_test, y_train, y_test = train_test_split(X, y, test_size=0.2, random_state=42)"
   ]
  },
  {
   "cell_type": "code",
   "execution_count": 7,
   "metadata": {},
   "outputs": [
    {
     "name": "stdout",
     "output_type": "stream",
     "text": [
      "Linear Regression Model - Mean Absolute Error: 11304.207092737768\n",
      "Linear Regression Model - Mean Squared Error: 1682485453.671205\n",
      "Linear Regression Model - R² Score: -4.399562685837752\n"
     ]
    }
   ],
   "source": [
    "from sklearn.metrics import mean_absolute_error, mean_squared_error, r2_score\n",
    "\n",
    "# Train the linear regression model\n",
    "linear_model_pipeline.fit(X_train, y_train)\n",
    "\n",
    "# Make predictions\n",
    "y_pred = linear_model_pipeline.predict(X_test)\n",
    "\n",
    "# Evaluate the model\n",
    "mae = mean_absolute_error(y_test, y_pred)\n",
    "mse = mean_squared_error(y_test, y_pred)\n",
    "r2 = r2_score(y_test, y_pred)\n",
    "\n",
    "print(f\"Linear Regression Model - Mean Absolute Error: {mae}\")\n",
    "print(f\"Linear Regression Model - Mean Squared Error: {mse}\")\n",
    "print(f\"Linear Regression Model - R² Score: {r2}\")\n"
   ]
  },
  {
   "cell_type": "code",
   "execution_count": 19,
   "metadata": {},
   "outputs": [
    {
     "name": "stdout",
     "output_type": "stream",
     "text": [
      "the linear regressor has be saved as Linear Regressor\n"
     ]
    }
   ],
   "source": [
    "import joblib\n",
    "\n",
    "filename = \"Linear Regressor\"\n",
    "with open(filename, \"wb\") as file:\n",
    "    joblib.dump(linear_model_pipeline, file)\n",
    "\n",
    "    print(f\"the linear regressor has be saved as {filename}\")"
   ]
  },
  {
   "cell_type": "code",
   "execution_count": 9,
   "metadata": {},
   "outputs": [
    {
     "name": "stdout",
     "output_type": "stream",
     "text": [
      "Random Forest Regressor - Mean Absolute Error: 5806.274518642822\n",
      "Random Forest Regressor - Mean Squared Error: 149938850.64224634\n",
      "Random Forest Regressor - R² Score: 0.5188046224597626\n"
     ]
    }
   ],
   "source": [
    "# Example: Using Random Forest Regressor for comparison\n",
    "\n",
    "from sklearn.ensemble import RandomForestRegressor\n",
    "\n",
    "# Define the pipeline for Random Forest Regressor\n",
    "rf_model_pipeline = Pipeline(steps=[('preprocessor', preprocessor),\n",
    "                                    ('model', RandomForestRegressor(random_state=42))])\n",
    "\n",
    "# Train the model\n",
    "rf_model_pipeline.fit(X_train, y_train)\n",
    "\n",
    "# Evaluate the model\n",
    "y_pred_rf = rf_model_pipeline.predict(X_test)\n",
    "\n",
    "# Calculate metrics\n",
    "mae_rf = mean_absolute_error(y_test, y_pred_rf)\n",
    "mse_rf = mean_squared_error(y_test, y_pred_rf)\n",
    "r2_rf = r2_score(y_test, y_pred_rf)\n",
    "\n",
    "print(f\"Random Forest Regressor - Mean Absolute Error: {mae_rf}\")\n",
    "print(f\"Random Forest Regressor - Mean Squared Error: {mse_rf}\")\n",
    "print(f\"Random Forest Regressor - R² Score: {r2_rf}\")\n"
   ]
  },
  {
   "cell_type": "code",
   "execution_count": 10,
   "metadata": {},
   "outputs": [
    {
     "name": "stdout",
     "output_type": "stream",
     "text": [
      "the model has be saved to Random Forest Regressor\n"
     ]
    }
   ],
   "source": [
    "import joblib\n",
    "model_filename  = \"Random Forest Regressor\"\n",
    "with open (model_filename, \"wb\") as file:\n",
    "    joblib.dump(rf_model_pipeline, file)\n",
    "\n",
    "    print(f\"the model has be saved to {model_filename}\")\n"
   ]
  },
  {
   "cell_type": "code",
   "execution_count": 23,
   "metadata": {},
   "outputs": [
    {
     "name": "stdout",
     "output_type": "stream",
     "text": [
      "[  933.47 17945.61]\n",
      "[12603.41633847 46627.05744075]\n"
     ]
    }
   ],
   "source": [
    "# load model \n",
    "model = joblib.load(\"./models/Random Forest Regressor\")\n",
    "model2 = joblib.load(\"./models/Linear Regressor\")\n",
    "\n",
    "new_input_data = pd.DataFrame({\n",
    "    'Manufacturer': ['MERCEDES-BENZ', 'Honda'],\n",
    "    'Model': ['E 350', 'Civic'],\n",
    "    'Prod. year': [2014, 2015],\n",
    "    'Category': ['Sedan', 'Sedan'],\n",
    "    'Fuel type': ['Diesel', 'Petrol'],\n",
    "    'Mileage': [184467, 80000]\n",
    "})\n",
    "\n",
    "predcitons = model.predict(new_input_data)\n",
    "predcitons2 = model2.predict(new_input_data)\n",
    "\n",
    "\n",
    "# print prediction\n",
    "print(predcitons)\n",
    "print(predcitons2 )\n",
    "\n",
    "# random forest regressor is best"
   ]
  },
  {
   "cell_type": "code",
   "execution_count": null,
   "metadata": {},
   "outputs": [],
   "source": []
  }
 ],
 "metadata": {
  "kernelspec": {
   "display_name": "exhibit-2",
   "language": "python",
   "name": "python3"
  },
  "language_info": {
   "codemirror_mode": {
    "name": "ipython",
    "version": 3
   },
   "file_extension": ".py",
   "mimetype": "text/x-python",
   "name": "python",
   "nbconvert_exporter": "python",
   "pygments_lexer": "ipython3",
   "version": "3.8.18"
  }
 },
 "nbformat": 4,
 "nbformat_minor": 2
}
